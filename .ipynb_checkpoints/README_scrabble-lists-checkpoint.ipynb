{
 "cells": [
  {
   "cell_type": "markdown",
   "metadata": {},
   "source": [
    "# The Scrabble Project\n",
    "The goals of this Python project was to use the most recent Official Word List (OWL) for Scrabble Tournament plan to (1) Create some useful word lists to study and (2) Build an anagramming game. The secondary purpose is to practice coding with the fundamentals of Python. \n",
    "\n",
    "I used Python 2.7 in the PyCharm IDE to do this, and only a few simple packages from the standard library. The final outputs are a scrabble cheat sheet PDF that draws from the wordlists and a console game that presents you with a random draw of seven tiles (a scrabble rack) and then can show you the anagramming solution which is all the words that you can make with this rack.\n",
    "\n",
    "As you might imagine, handling blank tiles (wildcards) was the least straightforward part of this project! This is an example of a game session:"
   ]
  },
  {
   "cell_type": "code",
   "execution_count": 12,
   "metadata": {
    "collapsed": false
   },
   "outputs": [
    {
     "name": "stdout",
     "output_type": "stream",
     "text": [
      "---------------------------------------------------------\n",
      "-----  Welcome to the Anagram Game -----\n",
      "---------------------------------------------------------\n",
      "---------------------------------------------------------\n",
      "(1) See Rules\n",
      "(2) Play!\n",
      "(3) Exit\n",
      "What is your choice? (enter a number)2\n",
      "---------------------------------------------------------\n",
      "This rack has the following tiles:\n",
      "BMXLACL\n",
      "This rack can make  22  different words of length three or more.\n",
      "Please hit enter when you are ready to see the solutions...\n",
      "\n",
      "This rack can make the following words (length three or more):\n",
      "['max', 'bam', 'cam', 'mac', 'cal', 'lac', 'all', 'lam', 'lax', 'cab', 'alb', 'bal', 'lab']\n",
      "['mall', 'ball', 'call', 'calx', 'calm', 'clam', 'balm', 'blam', 'lamb']\n",
      "[]\n",
      "[]\n",
      "[]\n",
      "---------------------------------------------------------\n",
      "---------------------------------------------------------\n",
      "(1) See Rules\n",
      "(2) Play!\n",
      "(3) Exit\n",
      "What is your choice? (enter a number)3\n",
      "---------------------------------------------------------\n",
      "-----  Goodbye -----\n",
      "---------------------------------------------------------\n"
     ]
    }
   ],
   "source": [
    "%run anagram_console_game.py"
   ]
  },
  {
   "cell_type": "markdown",
   "metadata": {},
   "source": [
    "## Scrabble Word Lists\n",
    "For some reason the OWL3 is not publicly available online, so the first script in this project, **`dictionary_maker.py`**, recreates the OWL3 as the union of several different lists (the OWL2, the words that are new in the OWL3, and the dirty words that were removed from OWL3 to make the Official Hasbro-endorsed dictionary). This script outputs the final OWL3 as a newline-delimited text file.\n",
    "\n",
    "The second script **`wordlist_maker.py`** reads in the dictionary and then filters through it to make different word lists that are useful for serious scrabble players. These include the Q-without-U words and the words with at least 75% vowels. These lists all get output as their own .txt files, but I also later will combine them into an official cheat sheet PDF.\n",
    "\n",
    "\n",
    "## Scrabble Anagram Game\n",
    "The third file, **`stanagram_map_maker.py`**, uses the OWL3 text file to create a Python `dict` that maps every standard anagram to it's list of words that it can make. A standard anagram ('stanagram') for a word or set of letters is simply the alphabetized list of characters. For instance \"word\" stanagrams to \"DORW\". Obviously this mapping doesn't bother to include stanagrams that can't make any words, e.g. \"CCLP\". Finally, this python script actually writes another python script in which the stanagram map `dict` object is hardcoded line by line to be imported as a module in the actual game script.\n",
    "\n",
    "The final file, **`anagram_console_game.py`** imports the **`stanagram_map.py`** module mentioned above so that it can use the stanagram map `dict` object to find the solution for a randomly generated rack (set of seven tiles). The conosle game just presents a simple menu that lets you repeatedly receive a new random rack and view the solutions. There was a little bit of non-triviality in how to deal with racks that have a blank tile, or god forbid, two blank tiles! "
   ]
  }
 ],
 "metadata": {
  "kernelspec": {
   "display_name": "Python 2",
   "language": "python",
   "name": "python2"
  },
  "language_info": {
   "codemirror_mode": {
    "name": "ipython",
    "version": 2
   },
   "file_extension": ".py",
   "mimetype": "text/x-python",
   "name": "python",
   "nbconvert_exporter": "python",
   "pygments_lexer": "ipython2",
   "version": "2.7.8"
  }
 },
 "nbformat": 4,
 "nbformat_minor": 0
}
