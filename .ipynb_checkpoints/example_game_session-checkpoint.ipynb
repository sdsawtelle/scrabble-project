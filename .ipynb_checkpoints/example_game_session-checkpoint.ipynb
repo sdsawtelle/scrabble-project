{
 "cells": [
  {
   "cell_type": "markdown",
   "metadata": {},
   "source": [
    "# Example Anagram Console Game Session"
   ]
  },
  {
   "cell_type": "code",
   "execution_count": 2,
   "metadata": {
    "collapsed": false
   },
   "outputs": [
    {
     "name": "stdout",
     "output_type": "stream",
     "text": [
      "C:\\Users\\Sonya\\Documents\\My Box Files\\Projects\\python-scrabble-project\\src\n"
     ]
    }
   ],
   "source": [
    "cd src"
   ]
  },
  {
   "cell_type": "code",
   "execution_count": 3,
   "metadata": {
    "collapsed": false,
    "scrolled": true
   },
   "outputs": [
    {
     "name": "stdout",
     "output_type": "stream",
     "text": [
      "---------------------------------------------------------\n",
      "-----  Welcome to the Anagram Game -----\n",
      "---------------------------------------------------------\n",
      "---------------------------------------------------------\n",
      "(1) See Rules\n",
      "(2) Play!\n",
      "(3) Exit\n",
      "What is your choice? (enter a number)1\n",
      "---------------------------------------------------------\n",
      "You will be presented with a first-turn scrabble rack (a draw of seven tiles from a fresh bag of all the tiles).\n",
      "Your job is to figure out all the words of length three or more that can be made with your rack!\n",
      "An asterisk (*) indicates a blank tile i.e. a wildcard.\n",
      "---------------------------------------------------------\n",
      "---------------------------------------------------------\n",
      "(1) See Rules\n",
      "(2) Play!\n",
      "(3) Exit\n",
      "What is your choice? (enter a number)2\n",
      "---------------------------------------------------------\n",
      "This rack has the following tiles:\n",
      "ETUYRIL\n",
      "This rack can make  61  different words of length three or more.\n",
      "Please hit enter when you are ready to see the solutions...\n",
      "\n",
      "This rack can make the following words (length three or more):\n",
      "['rye', 'yer', 'lei', 'lie', 'ret', 'ire', 'rei', 'let', 'tel', 'lit', 'til', 'ryu', 'rut', 'leu', 'rue', 'ley', 'lye', 'tye', 'yet', 'tie', 'try', 'tui', 'ute']\n",
      "['ruly', 'true', 'rite', 'tier', 'tire', 'etui', 'yule', 'yeti', 'yurt', 'tirl', 'trey', 'tyer', 'tyre', 'lyre', 'rely', 'lure', 'rule', 'lite', 'tile', 'lieu', 'litu', 'lier', 'lire', 'riel', 'rile', 'lute', 'tule']\n",
      "['riley', 'tuile', 'utile', 'tuyer', 'liter', 'litre', 'relit', 'tiler', 'uteri', 'truly']\n",
      "['rutile']\n",
      "---------------------------------------------------------\n",
      "---------------------------------------------------------\n",
      "(1) See Rules\n",
      "(2) Play!\n",
      "(3) Exit\n",
      "What is your choice? (enter a number)3\n",
      "---------------------------------------------------------\n",
      "-----  Goodbye -----\n",
      "---------------------------------------------------------\n"
     ]
    }
   ],
   "source": [
    "%run anagram_console_game.py"
   ]
  }
 ],
 "metadata": {
  "anaconda-cloud": {},
  "kernelspec": {
   "display_name": "Python 3",
   "language": "python",
   "name": "python3"
  },
  "language_info": {
   "codemirror_mode": {
    "name": "ipython",
    "version": 3
   },
   "file_extension": ".py",
   "mimetype": "text/x-python",
   "name": "python",
   "nbconvert_exporter": "python",
   "pygments_lexer": "ipython3",
   "version": "3.5.1"
  }
 },
 "nbformat": 4,
 "nbformat_minor": 0
}
